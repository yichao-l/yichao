{
  "cells": [
    {
      "cell_type": "markdown",
      "id": "c6dd8cc4",
      "metadata": {
        "id": "c6dd8cc4"
      },
      "source": [
        "# Homework 0"
      ]
    },
    {
      "cell_type": "markdown",
      "id": "964185a7",
      "metadata": {
        "id": "964185a7"
      },
      "source": [
        "## Imports and Utilities\n",
        "**Note**: these imports and functions are available in catsoop. You do not need to copy them in."
      ]
    },
    {
      "cell_type": "code",
      "execution_count": 2,
      "id": "ff26bd30",
      "metadata": {
        "id": "ff26bd30"
      },
      "outputs": [],
      "source": [
        "import numpy as np\n",
        "\n",
        "def grid_successor_fn(state):\n",
        "  \"\"\"Helper for testing BFS.\n",
        "  \"\"\"\n",
        "  obstacles = np.array([\n",
        "    [0, 0, 1, 0, 0],\n",
        "    [0, 1, 0, 0, 0],\n",
        "    [0, 1, 0, 0, 0],\n",
        "    [0, 0, 0, 1, 0],\n",
        "    [0, 0, 1, 1, 0],\n",
        "  ])\n",
        "\n",
        "  act_to_delta = {\n",
        "    \"up\": (-1, 0),\n",
        "    \"down\": (1, 0),\n",
        "    \"left\": (0, -1),\n",
        "    \"right\": (0, 1),\n",
        "  }\n",
        "\n",
        "  r, c = state\n",
        "\n",
        "  for act, (dr, dc) in act_to_delta.items():\n",
        "    new_r, new_c = r + dr, c + dc\n",
        "    # Check if in bounds\n",
        "    if not (0 <= new_r < obstacles.shape[0] and 0 <= new_c < obstacles.shape[1]):\n",
        "      continue\n",
        "    # Check if obstacle\n",
        "    if obstacles[new_r, new_c]:\n",
        "      continue\n",
        "    # Valid action\n",
        "    yield (act, (new_r, new_c))\n",
        "\n",
        "\n",
        "def grid_check_goal_fn(state):\n",
        "  \"\"\"Helper for testing BFS.\n",
        "  \"\"\"\n",
        "  # Bottom right corner of grid\n",
        "  return state == (4, 4)\n",
        "\n"
      ]
    },
    {
      "cell_type": "markdown",
      "id": "e465377b",
      "metadata": {
        "id": "e465377b"
      },
      "source": [
        "## Problems"
      ]
    },
    {
      "cell_type": "markdown",
      "id": "01f1f350",
      "metadata": {
        "id": "01f1f350"
      },
      "source": [
        "### Fibonacci\n",
        "Complete the following implementation of Fibonacci number that returns the n-th Fibonacci number\n",
        "\n",
        "For reference, our solution is **5** line(s) of code."
      ]
    },
    {
      "cell_type": "code",
      "execution_count": null,
      "id": "455d44eb",
      "metadata": {
        "id": "455d44eb"
      },
      "outputs": [],
      "source": [
        "\n",
        "def fib(n: int) -> int:\n",
        "    \"\"\"Compute the Fibonacci number. The first and the second Fibonacci numbers are 1 and 1.\n",
        "\n",
        "    Args:\n",
        "        n: An int.\n",
        "\n",
        "    Returns:\n",
        "        fib_n: An int that is the n-th Fibonacci number.\n",
        "    \"\"\"\n",
        "    if n == 1 or n == 2:\n",
        "        return 1\n",
        "    else:\n",
        "        return fib(n-1) + fib(n-2)\n"
      ]
    },
    {
      "cell_type": "markdown",
      "id": "b4b35399",
      "metadata": {
        "id": "b4b35399"
      },
      "source": [
        "Tests"
      ]
    },
    {
      "cell_type": "code",
      "execution_count": null,
      "id": "d5d3406b",
      "metadata": {
        "colab": {
          "base_uri": "https://localhost:8080/"
        },
        "id": "d5d3406b",
        "outputId": "d7c85a50-c5b6-4e37-d05b-802b99d129fb"
      },
      "outputs": [
        {
          "output_type": "stream",
          "name": "stdout",
          "text": [
            "Tests passed.\n"
          ]
        }
      ],
      "source": [
        "\n",
        "assert fib(5) == 5\n",
        "print('Tests passed.')"
      ]
    },
    {
      "cell_type": "markdown",
      "id": "3493b539",
      "metadata": {
        "id": "3493b539"
      },
      "source": [
        "### Gradient Descent\n",
        "Complete the following implementation of gradient descent to estimate the parameters of a linear model\n",
        "$y = \\theta^T x$, where $x \\in \\mathbb{R}^m$, $y \\in \\mathbb{R}^n$, and $\\theta \\in \\mathbb{R}^{m \\times n}$.\n",
        "Please use the following loss function:\n",
        "\n",
        "$$ \\mathcal{L} = \\frac{1}{2} \\sum_{i=1}^N \\| \\theta^T x_i - y_i \\|_2^2, $$\n",
        "where $(x_i, y_i)$, $i=1\\dots N$ are training samples.\n",
        "\n",
        "\n",
        "For reference, our solution is **5** line(s) of code."
      ]
    },
    {
      "cell_type": "code",
      "execution_count": null,
      "id": "9bbb631d",
      "metadata": {
        "id": "9bbb631d"
      },
      "outputs": [],
      "source": [
        "\n",
        "def run_linear_regression_gradient_descent(X, Y, initial_weights,\n",
        "                                           step_size=1e-4, num_steps=10000):\n",
        "    \"\"\"Use gradient descent to find weights for linear regression model.\n",
        "\n",
        "    The model is Y = np.dot(X, weights).\n",
        "\n",
        "    Args:\n",
        "        X: A np.ndarray of shape (num_examples, input_dim).\n",
        "        Y: A np.ndarray of shape (num_examples, output_dim).\n",
        "        initial_weights: A np.ndarray of shape (input_dim, output_dim).\n",
        "        step_size: A float step size for weight updates.\n",
        "        num_steps: An int total number of gradient descent steps.\n",
        "\n",
        "    Returns:\n",
        "        weights: A np.ndarray of shape (input_dim, output_dim).\n",
        "    \"\"\"\n",
        "    weights = initial_weights\n",
        "\n",
        "    for n in range(num_steps):\n",
        "        grad = ((X @ weights - Y).T @ X).T\n",
        "        weights -= step_size * grad\n",
        "    return weights"
      ]
    },
    {
      "cell_type": "markdown",
      "id": "1d56ae55",
      "metadata": {
        "id": "1d56ae55"
      },
      "source": [
        "Tests"
      ]
    },
    {
      "cell_type": "code",
      "source": [
        "run_linear_regression_gradient_descent(\n",
        "    np.array([[-1.41262304, -0.05674459],  [-0.39088744,  1.93347787],  [ 1.60273423,  0.49425723],  [-0.43195992,  2.15683528],  [ 0.41657819,  0.64056449],  [-0.15237357, -0.2646991 ],  [-0.18675108,  0.21625101],  [-1.00084224, -0.17877953],  [ 0.29247275,  0.90152606],  [-0.19424211, -1.95464221]], dtype=np.float64),\n",
        "    np.array([[ 1.53765174,  1.99632635, -0.44349588],  [ 2.75705143,  3.46424097, -3.82134691],  [-1.23038088, -1.62281025, -0.31252083],  [ 3.07090808,  3.85841826, -4.26119977],  [ 0.29276422,  0.34321647, -1.05295189],  [-0.14344599, -0.17094933,  0.44282211],  [ 0.47092835,  0.59817693, -0.48320843],  [ 0.92366326,  1.20737983, -0.05126426],  [ 0.74597395,  0.91589509, -1.59655717],  [-2.11733393, -2.63383695,  3.63320385]], dtype=np.float64),\n",
        "    np.array([[ 0.48758645,  0.08269006, -1.55049248],  [ 0.93392762,  0.54483908,  0.5738612 ]], dtype=np.float64))"
      ],
      "metadata": {
        "id": "IW3Qs0uBGe2Z",
        "outputId": "92f58f7b-8142-40ca-de3b-8998c2e5a893",
        "colab": {
          "base_uri": "https://localhost:8080/"
        }
      },
      "id": "IW3Qs0uBGe2Z",
      "execution_count": null,
      "outputs": [
        {
          "output_type": "execute_result",
          "data": {
            "text/plain": [
              "array([[-1.13341595, -1.47015507,  0.3862705 ],\n",
              "       [ 1.19606495,  1.49376665, -1.89738659]])"
            ]
          },
          "metadata": {},
          "execution_count": 27
        }
      ]
    },
    {
      "cell_type": "code",
      "execution_count": null,
      "id": "78366adb",
      "metadata": {
        "colab": {
          "base_uri": "https://localhost:8080/"
        },
        "id": "78366adb",
        "outputId": "9d0b93c3-f9a2-4195-af3f-1d6c7f48c6e6"
      },
      "outputs": [
        {
          "output_type": "stream",
          "name": "stdout",
          "text": [
            "Tests passed.\n"
          ]
        }
      ],
      "source": [
        "\n",
        "assert np.allclose(run_linear_regression_gradient_descent(np.array([[-1.41262304, -0.05674459],  [-0.39088744,  1.93347787],  [ 1.60273423,  0.49425723],  [-0.43195992,  2.15683528],  [ 0.41657819,  0.64056449],  [-0.15237357, -0.2646991 ],  [-0.18675108,  0.21625101],  [-1.00084224, -0.17877953],  [ 0.29247275,  0.90152606],  [-0.19424211, -1.95464221]], dtype=np.float64), np.array([[ 1.53765174,  1.99632635, -0.44349588],  [ 2.75705143,  3.46424097, -3.82134691],  [-1.23038088, -1.62281025, -0.31252083],  [ 3.07090808,  3.85841826, -4.26119977],  [ 0.29276422,  0.34321647, -1.05295189],  [-0.14344599, -0.17094933,  0.44282211],  [ 0.47092835,  0.59817693, -0.48320843],  [ 0.92366326,  1.20737983, -0.05126426],  [ 0.74597395,  0.91589509, -1.59655717],  [-2.11733393, -2.63383695,  3.63320385]], dtype=np.float64), np.array([[ 0.48758645,  0.08269006, -1.55049248],  [ 0.93392762,  0.54483908,  0.5738612 ]], dtype=np.float64)), np.array([[-1.13341595, -1.47015508,  0.3862705 ],  [ 1.19606495,  1.49376665, -1.8973866 ]], dtype=np.float64), atol=1e-6)\n",
        "print('Tests passed.')"
      ]
    },
    {
      "cell_type": "markdown",
      "id": "d9b5d7bd",
      "metadata": {
        "id": "d9b5d7bd"
      },
      "source": [
        "### Breadth-first search\n",
        "Complete the following implementation of breadth-first search. Note that the expected output is a list of _actions_.  The search should not revisit any states.\n",
        "\n",
        "For reference, our solution is **15** line(s) of code."
      ]
    },
    {
      "cell_type": "code",
      "source": [
        "x = []\n",
        "y = x + [1]\n",
        "x, y"
      ],
      "metadata": {
        "id": "V-FSgVItwksl",
        "outputId": "e232e13d-269e-4323-ea01-24fe6c3937c3",
        "colab": {
          "base_uri": "https://localhost:8080/"
        }
      },
      "id": "V-FSgVItwksl",
      "execution_count": 26,
      "outputs": [
        {
          "output_type": "execute_result",
          "data": {
            "text/plain": [
              "([], [1])"
            ]
          },
          "metadata": {},
          "execution_count": 26
        }
      ]
    },
    {
      "cell_type": "code",
      "execution_count": 29,
      "id": "a62df6da",
      "metadata": {
        "id": "a62df6da"
      },
      "outputs": [],
      "source": [
        "from typing import Any, Callable, Tuple, List, Set\n",
        "\n",
        "# Types\n",
        "State = Any\n",
        "Action = Any\n",
        "Node = Tuple[State, List[Action]]\n",
        "\n",
        "def breadth_first_search(initial_state: State,\n",
        "                         check_goal_fn: Callable[[State], bool],\n",
        "                         successor_fn: Callable[[State], Tuple[Action, State]],\n",
        "                         max_expansions: int = 1000):\n",
        "    \"\"\"Finds a plan from initial state to goal using BFS.\n",
        "\n",
        "    Args:\n",
        "    initial_state: Any state representation.\n",
        "    check_goal_fn: A function that takes a state and returns a bool\n",
        "        indicating whether the goal is reached.\n",
        "    successor_fn: A function that takes a state and yields zero or\n",
        "        more (action, next state).\n",
        "    max_expansions: An int bounding the number of times that thhe\n",
        "        successor_fn is called before giving up.\n",
        "\n",
        "    Returns:\n",
        "    plan: A list of actions or None.\n",
        "    \"\"\"\n",
        "    visited_states: Set[State] = set()\n",
        "    init_node = (initial_state, [])\n",
        "    queue: List[Node] = [init_node]\n",
        "    num_expansions = 0\n",
        "\n",
        "    while True:\n",
        "        try:\n",
        "            cur_node = queue.pop()\n",
        "        except IndexError:\n",
        "            # queue is empty\n",
        "            return None\n",
        "\n",
        "        cur_state, action_history = cur_node\n",
        "        if check_goal_fn(cur_state):\n",
        "            return action_history\n",
        "\n",
        "        for n_action, n_state in successor_fn(cur_state):\n",
        "            num_expansions += 1\n",
        "            new_action_history = action_history + [n_action]\n",
        "            new_node = (n_state, new_action_history)\n",
        "\n",
        "            # Add to queue if it's not visited\n",
        "            if n_state not in visited_states:\n",
        "                queue.append(new_node)\n",
        "                visited_states.add(n_state)\n"
      ]
    },
    {
      "cell_type": "markdown",
      "id": "16a8751a",
      "metadata": {
        "id": "16a8751a"
      },
      "source": [
        "Tests"
      ]
    },
    {
      "cell_type": "code",
      "execution_count": 30,
      "id": "309614ab",
      "metadata": {
        "id": "309614ab",
        "colab": {
          "base_uri": "https://localhost:8080/"
        },
        "outputId": "5b4beee0-56c1-4bc3-b7c5-4cd692db3462"
      },
      "outputs": [
        {
          "output_type": "stream",
          "name": "stdout",
          "text": [
            "Tests passed.\n"
          ]
        }
      ],
      "source": [
        "\n",
        "assert breadth_first_search((0, 0), grid_check_goal_fn, grid_successor_fn) == [\"down\", \"down\", \"down\", \"right\", \"right\", \"up\", \"right\", \"right\", \"down\", \"down\"]\n",
        "print('Tests passed.')"
      ]
    },
    {
      "cell_type": "code",
      "source": [],
      "metadata": {
        "id": "Le6btytxxAGN"
      },
      "id": "Le6btytxxAGN",
      "execution_count": null,
      "outputs": []
    }
  ],
  "metadata": {
    "colab": {
      "name": "hw00.ipynb",
      "provenance": []
    },
    "kernelspec": {
      "display_name": "Python 3",
      "name": "python3"
    },
    "language_info": {
      "name": "python"
    }
  },
  "nbformat": 4,
  "nbformat_minor": 5
}